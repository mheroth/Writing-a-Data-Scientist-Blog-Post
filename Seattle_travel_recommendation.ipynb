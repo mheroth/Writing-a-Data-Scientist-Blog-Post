{
 "cells": [
  {
   "cell_type": "markdown",
   "id": "1c5ea0c1",
   "metadata": {},
   "source": [
    "#### Seattle_travel_recommendation"
   ]
  },
  {
   "cell_type": "code",
   "execution_count": 1,
   "id": "252055fa",
   "metadata": {},
   "outputs": [
    {
     "data": {
      "text/html": [
       "<div>\n",
       "<style scoped>\n",
       "    .dataframe tbody tr th:only-of-type {\n",
       "        vertical-align: middle;\n",
       "    }\n",
       "\n",
       "    .dataframe tbody tr th {\n",
       "        vertical-align: top;\n",
       "    }\n",
       "\n",
       "    .dataframe thead th {\n",
       "        text-align: right;\n",
       "    }\n",
       "</style>\n",
       "<table border=\"1\" class=\"dataframe\">\n",
       "  <thead>\n",
       "    <tr style=\"text-align: right;\">\n",
       "      <th></th>\n",
       "      <th>listing_id</th>\n",
       "      <th>date</th>\n",
       "      <th>available</th>\n",
       "      <th>price</th>\n",
       "    </tr>\n",
       "  </thead>\n",
       "  <tbody>\n",
       "    <tr>\n",
       "      <th>0</th>\n",
       "      <td>241032</td>\n",
       "      <td>2016-01-04</td>\n",
       "      <td>t</td>\n",
       "      <td>$85.00</td>\n",
       "    </tr>\n",
       "    <tr>\n",
       "      <th>1</th>\n",
       "      <td>241032</td>\n",
       "      <td>2016-01-05</td>\n",
       "      <td>t</td>\n",
       "      <td>$85.00</td>\n",
       "    </tr>\n",
       "    <tr>\n",
       "      <th>2</th>\n",
       "      <td>241032</td>\n",
       "      <td>2016-01-06</td>\n",
       "      <td>f</td>\n",
       "      <td>NaN</td>\n",
       "    </tr>\n",
       "    <tr>\n",
       "      <th>3</th>\n",
       "      <td>241032</td>\n",
       "      <td>2016-01-07</td>\n",
       "      <td>f</td>\n",
       "      <td>NaN</td>\n",
       "    </tr>\n",
       "    <tr>\n",
       "      <th>4</th>\n",
       "      <td>241032</td>\n",
       "      <td>2016-01-08</td>\n",
       "      <td>f</td>\n",
       "      <td>NaN</td>\n",
       "    </tr>\n",
       "  </tbody>\n",
       "</table>\n",
       "</div>"
      ],
      "text/plain": [
       "   listing_id        date available   price\n",
       "0      241032  2016-01-04         t  $85.00\n",
       "1      241032  2016-01-05         t  $85.00\n",
       "2      241032  2016-01-06         f     NaN\n",
       "3      241032  2016-01-07         f     NaN\n",
       "4      241032  2016-01-08         f     NaN"
      ]
     },
     "execution_count": 1,
     "metadata": {},
     "output_type": "execute_result"
    }
   ],
   "source": [
    "import numpy as np\n",
    "import pandas as pd\n",
    "import matplotlib.pyplot as plt\n",
    "from sklearn.linear_model import LinearRegression\n",
    "from sklearn.model_selection import train_test_split\n",
    "from sklearn.metrics import r2_score, mean_squared_error\n",
    "import seaborn as sns\n",
    "%matplotlib inline\n",
    "\n",
    "# read calendar.csv\n",
    "df_cal = pd.read_csv('./calendar.csv')\n",
    "df_cal.head()"
   ]
  },
  {
   "cell_type": "code",
   "execution_count": 2,
   "id": "da033dc2",
   "metadata": {},
   "outputs": [
    {
     "data": {
      "text/html": [
       "<div>\n",
       "<style scoped>\n",
       "    .dataframe tbody tr th:only-of-type {\n",
       "        vertical-align: middle;\n",
       "    }\n",
       "\n",
       "    .dataframe tbody tr th {\n",
       "        vertical-align: top;\n",
       "    }\n",
       "\n",
       "    .dataframe thead th {\n",
       "        text-align: right;\n",
       "    }\n",
       "</style>\n",
       "<table border=\"1\" class=\"dataframe\">\n",
       "  <thead>\n",
       "    <tr style=\"text-align: right;\">\n",
       "      <th></th>\n",
       "      <th>id</th>\n",
       "      <th>listing_url</th>\n",
       "      <th>scrape_id</th>\n",
       "      <th>last_scraped</th>\n",
       "      <th>name</th>\n",
       "      <th>summary</th>\n",
       "      <th>space</th>\n",
       "      <th>description</th>\n",
       "      <th>experiences_offered</th>\n",
       "      <th>neighborhood_overview</th>\n",
       "      <th>...</th>\n",
       "      <th>review_scores_value</th>\n",
       "      <th>requires_license</th>\n",
       "      <th>license</th>\n",
       "      <th>jurisdiction_names</th>\n",
       "      <th>instant_bookable</th>\n",
       "      <th>cancellation_policy</th>\n",
       "      <th>require_guest_profile_picture</th>\n",
       "      <th>require_guest_phone_verification</th>\n",
       "      <th>calculated_host_listings_count</th>\n",
       "      <th>reviews_per_month</th>\n",
       "    </tr>\n",
       "  </thead>\n",
       "  <tbody>\n",
       "    <tr>\n",
       "      <th>0</th>\n",
       "      <td>241032</td>\n",
       "      <td>https://www.airbnb.com/rooms/241032</td>\n",
       "      <td>20160104002432</td>\n",
       "      <td>2016-01-04</td>\n",
       "      <td>Stylish Queen Anne Apartment</td>\n",
       "      <td>NaN</td>\n",
       "      <td>Make your self at home in this charming one-be...</td>\n",
       "      <td>Make your self at home in this charming one-be...</td>\n",
       "      <td>none</td>\n",
       "      <td>NaN</td>\n",
       "      <td>...</td>\n",
       "      <td>10.0</td>\n",
       "      <td>f</td>\n",
       "      <td>NaN</td>\n",
       "      <td>WASHINGTON</td>\n",
       "      <td>f</td>\n",
       "      <td>moderate</td>\n",
       "      <td>f</td>\n",
       "      <td>f</td>\n",
       "      <td>2</td>\n",
       "      <td>4.07</td>\n",
       "    </tr>\n",
       "    <tr>\n",
       "      <th>1</th>\n",
       "      <td>953595</td>\n",
       "      <td>https://www.airbnb.com/rooms/953595</td>\n",
       "      <td>20160104002432</td>\n",
       "      <td>2016-01-04</td>\n",
       "      <td>Bright &amp; Airy Queen Anne Apartment</td>\n",
       "      <td>Chemically sensitive? We've removed the irrita...</td>\n",
       "      <td>Beautiful, hypoallergenic apartment in an extr...</td>\n",
       "      <td>Chemically sensitive? We've removed the irrita...</td>\n",
       "      <td>none</td>\n",
       "      <td>Queen Anne is a wonderful, truly functional vi...</td>\n",
       "      <td>...</td>\n",
       "      <td>10.0</td>\n",
       "      <td>f</td>\n",
       "      <td>NaN</td>\n",
       "      <td>WASHINGTON</td>\n",
       "      <td>f</td>\n",
       "      <td>strict</td>\n",
       "      <td>t</td>\n",
       "      <td>t</td>\n",
       "      <td>6</td>\n",
       "      <td>1.48</td>\n",
       "    </tr>\n",
       "    <tr>\n",
       "      <th>2</th>\n",
       "      <td>3308979</td>\n",
       "      <td>https://www.airbnb.com/rooms/3308979</td>\n",
       "      <td>20160104002432</td>\n",
       "      <td>2016-01-04</td>\n",
       "      <td>New Modern House-Amazing water view</td>\n",
       "      <td>New modern house built in 2013.  Spectacular s...</td>\n",
       "      <td>Our house is modern, light and fresh with a wa...</td>\n",
       "      <td>New modern house built in 2013.  Spectacular s...</td>\n",
       "      <td>none</td>\n",
       "      <td>Upper Queen Anne is a charming neighborhood fu...</td>\n",
       "      <td>...</td>\n",
       "      <td>10.0</td>\n",
       "      <td>f</td>\n",
       "      <td>NaN</td>\n",
       "      <td>WASHINGTON</td>\n",
       "      <td>f</td>\n",
       "      <td>strict</td>\n",
       "      <td>f</td>\n",
       "      <td>f</td>\n",
       "      <td>2</td>\n",
       "      <td>1.15</td>\n",
       "    </tr>\n",
       "    <tr>\n",
       "      <th>3</th>\n",
       "      <td>7421966</td>\n",
       "      <td>https://www.airbnb.com/rooms/7421966</td>\n",
       "      <td>20160104002432</td>\n",
       "      <td>2016-01-04</td>\n",
       "      <td>Queen Anne Chateau</td>\n",
       "      <td>A charming apartment that sits atop Queen Anne...</td>\n",
       "      <td>NaN</td>\n",
       "      <td>A charming apartment that sits atop Queen Anne...</td>\n",
       "      <td>none</td>\n",
       "      <td>NaN</td>\n",
       "      <td>...</td>\n",
       "      <td>NaN</td>\n",
       "      <td>f</td>\n",
       "      <td>NaN</td>\n",
       "      <td>WASHINGTON</td>\n",
       "      <td>f</td>\n",
       "      <td>flexible</td>\n",
       "      <td>f</td>\n",
       "      <td>f</td>\n",
       "      <td>1</td>\n",
       "      <td>NaN</td>\n",
       "    </tr>\n",
       "    <tr>\n",
       "      <th>4</th>\n",
       "      <td>278830</td>\n",
       "      <td>https://www.airbnb.com/rooms/278830</td>\n",
       "      <td>20160104002432</td>\n",
       "      <td>2016-01-04</td>\n",
       "      <td>Charming craftsman 3 bdm house</td>\n",
       "      <td>Cozy family craftman house in beautiful neighb...</td>\n",
       "      <td>Cozy family craftman house in beautiful neighb...</td>\n",
       "      <td>Cozy family craftman house in beautiful neighb...</td>\n",
       "      <td>none</td>\n",
       "      <td>We are in the beautiful neighborhood of Queen ...</td>\n",
       "      <td>...</td>\n",
       "      <td>9.0</td>\n",
       "      <td>f</td>\n",
       "      <td>NaN</td>\n",
       "      <td>WASHINGTON</td>\n",
       "      <td>f</td>\n",
       "      <td>strict</td>\n",
       "      <td>f</td>\n",
       "      <td>f</td>\n",
       "      <td>1</td>\n",
       "      <td>0.89</td>\n",
       "    </tr>\n",
       "  </tbody>\n",
       "</table>\n",
       "<p>5 rows × 92 columns</p>\n",
       "</div>"
      ],
      "text/plain": [
       "        id                           listing_url       scrape_id last_scraped  \\\n",
       "0   241032   https://www.airbnb.com/rooms/241032  20160104002432   2016-01-04   \n",
       "1   953595   https://www.airbnb.com/rooms/953595  20160104002432   2016-01-04   \n",
       "2  3308979  https://www.airbnb.com/rooms/3308979  20160104002432   2016-01-04   \n",
       "3  7421966  https://www.airbnb.com/rooms/7421966  20160104002432   2016-01-04   \n",
       "4   278830   https://www.airbnb.com/rooms/278830  20160104002432   2016-01-04   \n",
       "\n",
       "                                  name  \\\n",
       "0         Stylish Queen Anne Apartment   \n",
       "1   Bright & Airy Queen Anne Apartment   \n",
       "2  New Modern House-Amazing water view   \n",
       "3                   Queen Anne Chateau   \n",
       "4       Charming craftsman 3 bdm house   \n",
       "\n",
       "                                             summary  \\\n",
       "0                                                NaN   \n",
       "1  Chemically sensitive? We've removed the irrita...   \n",
       "2  New modern house built in 2013.  Spectacular s...   \n",
       "3  A charming apartment that sits atop Queen Anne...   \n",
       "4  Cozy family craftman house in beautiful neighb...   \n",
       "\n",
       "                                               space  \\\n",
       "0  Make your self at home in this charming one-be...   \n",
       "1  Beautiful, hypoallergenic apartment in an extr...   \n",
       "2  Our house is modern, light and fresh with a wa...   \n",
       "3                                                NaN   \n",
       "4  Cozy family craftman house in beautiful neighb...   \n",
       "\n",
       "                                         description experiences_offered  \\\n",
       "0  Make your self at home in this charming one-be...                none   \n",
       "1  Chemically sensitive? We've removed the irrita...                none   \n",
       "2  New modern house built in 2013.  Spectacular s...                none   \n",
       "3  A charming apartment that sits atop Queen Anne...                none   \n",
       "4  Cozy family craftman house in beautiful neighb...                none   \n",
       "\n",
       "                               neighborhood_overview  ... review_scores_value  \\\n",
       "0                                                NaN  ...                10.0   \n",
       "1  Queen Anne is a wonderful, truly functional vi...  ...                10.0   \n",
       "2  Upper Queen Anne is a charming neighborhood fu...  ...                10.0   \n",
       "3                                                NaN  ...                 NaN   \n",
       "4  We are in the beautiful neighborhood of Queen ...  ...                 9.0   \n",
       "\n",
       "  requires_license license jurisdiction_names instant_bookable  \\\n",
       "0                f     NaN         WASHINGTON                f   \n",
       "1                f     NaN         WASHINGTON                f   \n",
       "2                f     NaN         WASHINGTON                f   \n",
       "3                f     NaN         WASHINGTON                f   \n",
       "4                f     NaN         WASHINGTON                f   \n",
       "\n",
       "  cancellation_policy  require_guest_profile_picture  \\\n",
       "0            moderate                              f   \n",
       "1              strict                              t   \n",
       "2              strict                              f   \n",
       "3            flexible                              f   \n",
       "4              strict                              f   \n",
       "\n",
       "  require_guest_phone_verification calculated_host_listings_count  \\\n",
       "0                                f                              2   \n",
       "1                                t                              6   \n",
       "2                                f                              2   \n",
       "3                                f                              1   \n",
       "4                                f                              1   \n",
       "\n",
       "  reviews_per_month  \n",
       "0              4.07  \n",
       "1              1.48  \n",
       "2              1.15  \n",
       "3               NaN  \n",
       "4              0.89  \n",
       "\n",
       "[5 rows x 92 columns]"
      ]
     },
     "execution_count": 2,
     "metadata": {},
     "output_type": "execute_result"
    }
   ],
   "source": [
    "# read listing.csv\n",
    "df_lis = pd.read_csv('./listings.csv')\n",
    "df_lis.head()"
   ]
  },
  {
   "cell_type": "code",
   "execution_count": 3,
   "id": "3156ce01",
   "metadata": {},
   "outputs": [
    {
     "data": {
      "text/html": [
       "<div>\n",
       "<style scoped>\n",
       "    .dataframe tbody tr th:only-of-type {\n",
       "        vertical-align: middle;\n",
       "    }\n",
       "\n",
       "    .dataframe tbody tr th {\n",
       "        vertical-align: top;\n",
       "    }\n",
       "\n",
       "    .dataframe thead th {\n",
       "        text-align: right;\n",
       "    }\n",
       "</style>\n",
       "<table border=\"1\" class=\"dataframe\">\n",
       "  <thead>\n",
       "    <tr style=\"text-align: right;\">\n",
       "      <th></th>\n",
       "      <th>listing_id</th>\n",
       "      <th>id</th>\n",
       "      <th>date</th>\n",
       "      <th>reviewer_id</th>\n",
       "      <th>reviewer_name</th>\n",
       "      <th>comments</th>\n",
       "    </tr>\n",
       "  </thead>\n",
       "  <tbody>\n",
       "    <tr>\n",
       "      <th>0</th>\n",
       "      <td>7202016</td>\n",
       "      <td>38917982</td>\n",
       "      <td>2015-07-19</td>\n",
       "      <td>28943674</td>\n",
       "      <td>Bianca</td>\n",
       "      <td>Cute and cozy place. Perfect location to every...</td>\n",
       "    </tr>\n",
       "    <tr>\n",
       "      <th>1</th>\n",
       "      <td>7202016</td>\n",
       "      <td>39087409</td>\n",
       "      <td>2015-07-20</td>\n",
       "      <td>32440555</td>\n",
       "      <td>Frank</td>\n",
       "      <td>Kelly has a great room in a very central locat...</td>\n",
       "    </tr>\n",
       "    <tr>\n",
       "      <th>2</th>\n",
       "      <td>7202016</td>\n",
       "      <td>39820030</td>\n",
       "      <td>2015-07-26</td>\n",
       "      <td>37722850</td>\n",
       "      <td>Ian</td>\n",
       "      <td>Very spacious apartment, and in a great neighb...</td>\n",
       "    </tr>\n",
       "    <tr>\n",
       "      <th>3</th>\n",
       "      <td>7202016</td>\n",
       "      <td>40813543</td>\n",
       "      <td>2015-08-02</td>\n",
       "      <td>33671805</td>\n",
       "      <td>George</td>\n",
       "      <td>Close to Seattle Center and all it has to offe...</td>\n",
       "    </tr>\n",
       "    <tr>\n",
       "      <th>4</th>\n",
       "      <td>7202016</td>\n",
       "      <td>41986501</td>\n",
       "      <td>2015-08-10</td>\n",
       "      <td>34959538</td>\n",
       "      <td>Ming</td>\n",
       "      <td>Kelly was a great host and very accommodating ...</td>\n",
       "    </tr>\n",
       "  </tbody>\n",
       "</table>\n",
       "</div>"
      ],
      "text/plain": [
       "   listing_id        id        date  reviewer_id reviewer_name  \\\n",
       "0     7202016  38917982  2015-07-19     28943674        Bianca   \n",
       "1     7202016  39087409  2015-07-20     32440555         Frank   \n",
       "2     7202016  39820030  2015-07-26     37722850           Ian   \n",
       "3     7202016  40813543  2015-08-02     33671805        George   \n",
       "4     7202016  41986501  2015-08-10     34959538          Ming   \n",
       "\n",
       "                                            comments  \n",
       "0  Cute and cozy place. Perfect location to every...  \n",
       "1  Kelly has a great room in a very central locat...  \n",
       "2  Very spacious apartment, and in a great neighb...  \n",
       "3  Close to Seattle Center and all it has to offe...  \n",
       "4  Kelly was a great host and very accommodating ...  "
      ]
     },
     "execution_count": 3,
     "metadata": {},
     "output_type": "execute_result"
    }
   ],
   "source": [
    "# read reviews.csv\n",
    "df_rev = pd.read_csv('./reviews.csv')\n",
    "df_rev.head()"
   ]
  },
  {
   "cell_type": "markdown",
   "id": "ca7509b9",
   "metadata": {},
   "source": [
    "#### Best rated Airbnb in Seattle"
   ]
  },
  {
   "cell_type": "code",
   "execution_count": 4,
   "id": "0fd0a274",
   "metadata": {},
   "outputs": [
    {
     "name": "stdout",
     "output_type": "stream",
     "text": [
      "original dataset size:\n",
      "38180\n",
      "drop_rating_df size:\n",
      "31710\n",
      "drop_accuracy_df size:\n",
      "31600\n",
      "drop_cleanliness_df size:\n",
      "31600\n",
      "drop_checkin_df size:\n",
      "31590\n",
      "drop_communication_df size:\n",
      "31590\n",
      "drop_location_df size:\n",
      "31590\n",
      "drop_price_df size:\n",
      "31590\n",
      "drop_value_df size:\n",
      "31580\n"
     ]
    }
   ],
   "source": [
    "#Only use review variables and drop any rows with missing values\n",
    "num_vars = df_lis[['id', 'listing_url', 'review_scores_rating', 'review_scores_accuracy', 'review_scores_cleanliness', 'review_scores_checkin', 'review_scores_communication', 'review_scores_location', 'review_scores_value', 'price']]\n",
    "num_vars.head(30)\n",
    "print('original dataset size:')\n",
    "print(num_vars.size)\n",
    "\n",
    "#Drop the rows with missing reviews\n",
    "drop_rating_df = num_vars.dropna(subset=['review_scores_rating'], axis=0)\n",
    "drop_accuracy_df = drop_rating_df.dropna(subset=['review_scores_accuracy'], axis=0)\n",
    "drop_cleanliness_df = drop_accuracy_df.dropna(subset=['review_scores_cleanliness'], axis=0)\n",
    "drop_checkin_df = drop_cleanliness_df.dropna(subset=['review_scores_checkin'], axis=0)\n",
    "drop_communication_df = drop_checkin_df.dropna(subset=['review_scores_communication'], axis=0)\n",
    "drop_location_df = drop_communication_df.dropna(subset=['review_scores_location'], axis=0)\n",
    "drop_price_df = drop_location_df.dropna(subset=['price'], axis=0)\n",
    "drop_value_df = drop_price_df.dropna(subset=['review_scores_value'], axis=0)\n",
    "\n",
    "print('drop_rating_df size:')\n",
    "print(drop_rating_df.size)\n",
    "\n",
    "print('drop_accuracy_df size:')\n",
    "print(drop_accuracy_df.size)\n",
    "\n",
    "print('drop_cleanliness_df size:')\n",
    "print(drop_cleanliness_df.size)\n",
    "\n",
    "print('drop_checkin_df size:')\n",
    "print(drop_checkin_df.size)\n",
    "\n",
    "print('drop_communication_df size:')\n",
    "print(drop_communication_df.size)\n",
    "\n",
    "print('drop_location_df size:')\n",
    "print(drop_location_df.size)\n",
    "\n",
    "print('drop_price_df size:')\n",
    "print(drop_price_df.size)\n",
    "\n",
    "print('drop_value_df size:')\n",
    "print(drop_value_df.size)"
   ]
  },
  {
   "cell_type": "code",
   "execution_count": 5,
   "id": "99711198",
   "metadata": {},
   "outputs": [
    {
     "name": "stderr",
     "output_type": "stream",
     "text": [
      "C:\\Users\\z622912\\AppData\\Local\\Temp\\ipykernel_31964\\2359710424.py:2: SettingWithCopyWarning: \n",
      "A value is trying to be set on a copy of a slice from a DataFrame.\n",
      "Try using .loc[row_indexer,col_indexer] = value instead\n",
      "\n",
      "See the caveats in the documentation: https://pandas.pydata.org/pandas-docs/stable/user_guide/indexing.html#returning-a-view-versus-a-copy\n",
      "  drop_value_df['mean_rating'] = drop_value_df[['review_scores_rating', 'review_scores_accuracy', 'review_scores_cleanliness', 'review_scores_checkin', 'review_scores_communication', 'review_scores_location', 'review_scores_value']].mean(axis=1)\n"
     ]
    }
   ],
   "source": [
    "# calculate mean of all ratings and create new column for that in drop_value_df dataframe\n",
    "drop_value_df['mean_rating'] = drop_value_df[['review_scores_rating', 'review_scores_accuracy', 'review_scores_cleanliness', 'review_scores_checkin', 'review_scores_communication', 'review_scores_location', 'review_scores_value']].mean(axis=1)"
   ]
  },
  {
   "cell_type": "code",
   "execution_count": 6,
   "id": "6329a1b4",
   "metadata": {},
   "outputs": [
    {
     "name": "stderr",
     "output_type": "stream",
     "text": [
      "C:\\Users\\z622912\\AppData\\Local\\Temp\\ipykernel_31964\\1651801728.py:2: SettingWithCopyWarning: \n",
      "A value is trying to be set on a copy of a slice from a DataFrame.\n",
      "Try using .loc[row_indexer,col_indexer] = value instead\n",
      "\n",
      "See the caveats in the documentation: https://pandas.pydata.org/pandas-docs/stable/user_guide/indexing.html#returning-a-view-versus-a-copy\n",
      "  drop_value_df['price'] = drop_value_df['price'].apply(lambda x : x[1:] if x.startswith(\"$\") else x)\n",
      "C:\\Users\\z622912\\AppData\\Local\\Temp\\ipykernel_31964\\1651801728.py:3: SettingWithCopyWarning: \n",
      "A value is trying to be set on a copy of a slice from a DataFrame.\n",
      "Try using .loc[row_indexer,col_indexer] = value instead\n",
      "\n",
      "See the caveats in the documentation: https://pandas.pydata.org/pandas-docs/stable/user_guide/indexing.html#returning-a-view-versus-a-copy\n",
      "  drop_value_df['price'] = drop_value_df['price'].apply(lambda x :  x.replace(\",\", \"\"))\n"
     ]
    },
    {
     "data": {
      "text/plain": [
       "0        85.0\n",
       "1       150.0\n",
       "2       975.0\n",
       "4       450.0\n",
       "5       120.0\n",
       "        ...  \n",
       "3810    154.0\n",
       "3811     65.0\n",
       "3812     95.0\n",
       "3813    359.0\n",
       "3814     79.0\n",
       "Name: price, Length: 3158, dtype: float64"
      ]
     },
     "execution_count": 6,
     "metadata": {},
     "output_type": "execute_result"
    }
   ],
   "source": [
    "# transform price from string into float values for later calculation\n",
    "drop_value_df['price'] = drop_value_df['price'].apply(lambda x : x[1:] if x.startswith(\"$\") else x)\n",
    "drop_value_df['price'] = drop_value_df['price'].apply(lambda x :  x.replace(\",\", \"\"))\n",
    "drop_value_df['price'].astype(float)"
   ]
  },
  {
   "cell_type": "code",
   "execution_count": 7,
   "id": "0c106188",
   "metadata": {},
   "outputs": [
    {
     "name": "stderr",
     "output_type": "stream",
     "text": [
      "C:\\Users\\z622912\\AppData\\Local\\Temp\\ipykernel_31964\\3182202663.py:2: SettingWithCopyWarning: \n",
      "A value is trying to be set on a copy of a slice from a DataFrame.\n",
      "Try using .loc[row_indexer,col_indexer] = value instead\n",
      "\n",
      "See the caveats in the documentation: https://pandas.pydata.org/pandas-docs/stable/user_guide/indexing.html#returning-a-view-versus-a-copy\n",
      "  drop_value_df['rev/price']=drop_value_df['mean_rating']/drop_value_df['price'].astype(float)\n"
     ]
    }
   ],
   "source": [
    "# calculate mean review divided by price\n",
    "drop_value_df['rev/price']=drop_value_df['mean_rating']/drop_value_df['price'].astype(float)"
   ]
  },
  {
   "cell_type": "code",
   "execution_count": 8,
   "id": "012f3885",
   "metadata": {},
   "outputs": [
    {
     "data": {
      "text/html": [
       "<div>\n",
       "<style scoped>\n",
       "    .dataframe tbody tr th:only-of-type {\n",
       "        vertical-align: middle;\n",
       "    }\n",
       "\n",
       "    .dataframe tbody tr th {\n",
       "        vertical-align: top;\n",
       "    }\n",
       "\n",
       "    .dataframe thead th {\n",
       "        text-align: right;\n",
       "    }\n",
       "</style>\n",
       "<table border=\"1\" class=\"dataframe\">\n",
       "  <thead>\n",
       "    <tr style=\"text-align: right;\">\n",
       "      <th></th>\n",
       "      <th>id</th>\n",
       "      <th>listing_url</th>\n",
       "      <th>review_scores_rating</th>\n",
       "      <th>review_scores_accuracy</th>\n",
       "      <th>review_scores_cleanliness</th>\n",
       "      <th>review_scores_checkin</th>\n",
       "      <th>review_scores_communication</th>\n",
       "      <th>review_scores_location</th>\n",
       "      <th>review_scores_value</th>\n",
       "      <th>price</th>\n",
       "      <th>mean_rating</th>\n",
       "      <th>rev/price</th>\n",
       "    </tr>\n",
       "  </thead>\n",
       "  <tbody>\n",
       "    <tr>\n",
       "      <th>0</th>\n",
       "      <td>241032</td>\n",
       "      <td>https://www.airbnb.com/rooms/241032</td>\n",
       "      <td>95.0</td>\n",
       "      <td>10.0</td>\n",
       "      <td>10.0</td>\n",
       "      <td>10.0</td>\n",
       "      <td>10.0</td>\n",
       "      <td>9.0</td>\n",
       "      <td>10.0</td>\n",
       "      <td>85.00</td>\n",
       "      <td>22.000000</td>\n",
       "      <td>0.258824</td>\n",
       "    </tr>\n",
       "    <tr>\n",
       "      <th>1</th>\n",
       "      <td>953595</td>\n",
       "      <td>https://www.airbnb.com/rooms/953595</td>\n",
       "      <td>96.0</td>\n",
       "      <td>10.0</td>\n",
       "      <td>10.0</td>\n",
       "      <td>10.0</td>\n",
       "      <td>10.0</td>\n",
       "      <td>10.0</td>\n",
       "      <td>10.0</td>\n",
       "      <td>150.00</td>\n",
       "      <td>22.285714</td>\n",
       "      <td>0.148571</td>\n",
       "    </tr>\n",
       "    <tr>\n",
       "      <th>2</th>\n",
       "      <td>3308979</td>\n",
       "      <td>https://www.airbnb.com/rooms/3308979</td>\n",
       "      <td>97.0</td>\n",
       "      <td>10.0</td>\n",
       "      <td>10.0</td>\n",
       "      <td>10.0</td>\n",
       "      <td>10.0</td>\n",
       "      <td>10.0</td>\n",
       "      <td>10.0</td>\n",
       "      <td>975.00</td>\n",
       "      <td>22.428571</td>\n",
       "      <td>0.023004</td>\n",
       "    </tr>\n",
       "    <tr>\n",
       "      <th>4</th>\n",
       "      <td>278830</td>\n",
       "      <td>https://www.airbnb.com/rooms/278830</td>\n",
       "      <td>92.0</td>\n",
       "      <td>9.0</td>\n",
       "      <td>9.0</td>\n",
       "      <td>10.0</td>\n",
       "      <td>10.0</td>\n",
       "      <td>9.0</td>\n",
       "      <td>9.0</td>\n",
       "      <td>450.00</td>\n",
       "      <td>21.142857</td>\n",
       "      <td>0.046984</td>\n",
       "    </tr>\n",
       "    <tr>\n",
       "      <th>5</th>\n",
       "      <td>5956968</td>\n",
       "      <td>https://www.airbnb.com/rooms/5956968</td>\n",
       "      <td>95.0</td>\n",
       "      <td>10.0</td>\n",
       "      <td>10.0</td>\n",
       "      <td>10.0</td>\n",
       "      <td>10.0</td>\n",
       "      <td>10.0</td>\n",
       "      <td>10.0</td>\n",
       "      <td>120.00</td>\n",
       "      <td>22.142857</td>\n",
       "      <td>0.184524</td>\n",
       "    </tr>\n",
       "    <tr>\n",
       "      <th>6</th>\n",
       "      <td>1909058</td>\n",
       "      <td>https://www.airbnb.com/rooms/1909058</td>\n",
       "      <td>99.0</td>\n",
       "      <td>10.0</td>\n",
       "      <td>10.0</td>\n",
       "      <td>10.0</td>\n",
       "      <td>10.0</td>\n",
       "      <td>10.0</td>\n",
       "      <td>10.0</td>\n",
       "      <td>80.00</td>\n",
       "      <td>22.714286</td>\n",
       "      <td>0.283929</td>\n",
       "    </tr>\n",
       "    <tr>\n",
       "      <th>7</th>\n",
       "      <td>856550</td>\n",
       "      <td>https://www.airbnb.com/rooms/856550</td>\n",
       "      <td>97.0</td>\n",
       "      <td>10.0</td>\n",
       "      <td>10.0</td>\n",
       "      <td>10.0</td>\n",
       "      <td>10.0</td>\n",
       "      <td>9.0</td>\n",
       "      <td>10.0</td>\n",
       "      <td>60.00</td>\n",
       "      <td>22.285714</td>\n",
       "      <td>0.371429</td>\n",
       "    </tr>\n",
       "    <tr>\n",
       "      <th>8</th>\n",
       "      <td>4948745</td>\n",
       "      <td>https://www.airbnb.com/rooms/4948745</td>\n",
       "      <td>97.0</td>\n",
       "      <td>10.0</td>\n",
       "      <td>9.0</td>\n",
       "      <td>10.0</td>\n",
       "      <td>9.0</td>\n",
       "      <td>10.0</td>\n",
       "      <td>10.0</td>\n",
       "      <td>90.00</td>\n",
       "      <td>22.142857</td>\n",
       "      <td>0.246032</td>\n",
       "    </tr>\n",
       "    <tr>\n",
       "      <th>9</th>\n",
       "      <td>2493658</td>\n",
       "      <td>https://www.airbnb.com/rooms/2493658</td>\n",
       "      <td>97.0</td>\n",
       "      <td>10.0</td>\n",
       "      <td>10.0</td>\n",
       "      <td>10.0</td>\n",
       "      <td>10.0</td>\n",
       "      <td>10.0</td>\n",
       "      <td>9.0</td>\n",
       "      <td>150.00</td>\n",
       "      <td>22.285714</td>\n",
       "      <td>0.148571</td>\n",
       "    </tr>\n",
       "    <tr>\n",
       "      <th>10</th>\n",
       "      <td>175576</td>\n",
       "      <td>https://www.airbnb.com/rooms/175576</td>\n",
       "      <td>97.0</td>\n",
       "      <td>10.0</td>\n",
       "      <td>10.0</td>\n",
       "      <td>10.0</td>\n",
       "      <td>10.0</td>\n",
       "      <td>10.0</td>\n",
       "      <td>10.0</td>\n",
       "      <td>95.00</td>\n",
       "      <td>22.428571</td>\n",
       "      <td>0.236090</td>\n",
       "    </tr>\n",
       "  </tbody>\n",
       "</table>\n",
       "</div>"
      ],
      "text/plain": [
       "         id                           listing_url  review_scores_rating  \\\n",
       "0    241032   https://www.airbnb.com/rooms/241032                  95.0   \n",
       "1    953595   https://www.airbnb.com/rooms/953595                  96.0   \n",
       "2   3308979  https://www.airbnb.com/rooms/3308979                  97.0   \n",
       "4    278830   https://www.airbnb.com/rooms/278830                  92.0   \n",
       "5   5956968  https://www.airbnb.com/rooms/5956968                  95.0   \n",
       "6   1909058  https://www.airbnb.com/rooms/1909058                  99.0   \n",
       "7    856550   https://www.airbnb.com/rooms/856550                  97.0   \n",
       "8   4948745  https://www.airbnb.com/rooms/4948745                  97.0   \n",
       "9   2493658  https://www.airbnb.com/rooms/2493658                  97.0   \n",
       "10   175576   https://www.airbnb.com/rooms/175576                  97.0   \n",
       "\n",
       "    review_scores_accuracy  review_scores_cleanliness  review_scores_checkin  \\\n",
       "0                     10.0                       10.0                   10.0   \n",
       "1                     10.0                       10.0                   10.0   \n",
       "2                     10.0                       10.0                   10.0   \n",
       "4                      9.0                        9.0                   10.0   \n",
       "5                     10.0                       10.0                   10.0   \n",
       "6                     10.0                       10.0                   10.0   \n",
       "7                     10.0                       10.0                   10.0   \n",
       "8                     10.0                        9.0                   10.0   \n",
       "9                     10.0                       10.0                   10.0   \n",
       "10                    10.0                       10.0                   10.0   \n",
       "\n",
       "    review_scores_communication  review_scores_location  review_scores_value  \\\n",
       "0                          10.0                     9.0                 10.0   \n",
       "1                          10.0                    10.0                 10.0   \n",
       "2                          10.0                    10.0                 10.0   \n",
       "4                          10.0                     9.0                  9.0   \n",
       "5                          10.0                    10.0                 10.0   \n",
       "6                          10.0                    10.0                 10.0   \n",
       "7                          10.0                     9.0                 10.0   \n",
       "8                           9.0                    10.0                 10.0   \n",
       "9                          10.0                    10.0                  9.0   \n",
       "10                         10.0                    10.0                 10.0   \n",
       "\n",
       "     price  mean_rating  rev/price  \n",
       "0    85.00    22.000000   0.258824  \n",
       "1   150.00    22.285714   0.148571  \n",
       "2   975.00    22.428571   0.023004  \n",
       "4   450.00    21.142857   0.046984  \n",
       "5   120.00    22.142857   0.184524  \n",
       "6    80.00    22.714286   0.283929  \n",
       "7    60.00    22.285714   0.371429  \n",
       "8    90.00    22.142857   0.246032  \n",
       "9   150.00    22.285714   0.148571  \n",
       "10   95.00    22.428571   0.236090  "
      ]
     },
     "execution_count": 8,
     "metadata": {},
     "output_type": "execute_result"
    }
   ],
   "source": [
    "# show header with new column 'rev/price'\n",
    "drop_value_df.head(10)"
   ]
  },
  {
   "cell_type": "code",
   "execution_count": 9,
   "id": "c44eb73d",
   "metadata": {},
   "outputs": [
    {
     "data": {
      "image/png": "[encoded data removed]",
      "text/plain": [
       "<Figure size 432x288 with 1 Axes>"
      ]
     },
     "metadata": {
      "needs_background": "light"
     },
     "output_type": "display_data"
    }
   ],
   "source": [
    "# plot top 10 price-review-winner\n",
    "best10 = drop_value_df.nlargest(10, 'rev/price')\n",
    "# Importing the matplotlib library\n",
    "import matplotlib.pyplot as plt\n",
    "# Categorical data: Country names\n",
    "ids = best10['id'].astype(str).tolist()\n",
    "# Integer value interms of death counts\n",
    "rev_price = best10['rev/price'].tolist()\n",
    "# Passing the parameters to the bar function, this is the main function which creates the bar plot\n",
    "plt.bar(ids, rev_price)\n",
    "plt.title('Top 10 price-review-winner')\n",
    "plt.xlabel('id')\n",
    "plt.xticks(rotation=30)\n",
    "plt.ylabel('mean_review/price')\n",
    "# Displaying the bar plot\n",
    "plt.show()"
   ]
  },
  {
   "cell_type": "code",
   "execution_count": 10,
   "id": "1fd2785b",
   "metadata": {},
   "outputs": [],
   "source": [
    "# separate date column into yera, month, day columns for later use\n",
    "int(df_cal['date'][0].split('-')[0])\n",
    "df_cal['year'] = df_cal['date'].apply(lambda x : int(x.split('-')[0]))\n",
    "df_cal['month'] = df_cal['date'].apply(lambda x : int(x.split('-')[1]))\n",
    "df_cal['day'] = df_cal['date'].apply(lambda x : int(x.split('-')[2]))"
   ]
  },
  {
   "cell_type": "code",
   "execution_count": 11,
   "id": "20bc2ad7",
   "metadata": {},
   "outputs": [
    {
     "data": {
      "text/plain": [
       "2016    1385934\n",
       "2017       7636\n",
       "Name: year, dtype: int64"
      ]
     },
     "execution_count": 11,
     "metadata": {},
     "output_type": "execute_result"
    }
   ],
   "source": [
    "# check how many different years are in the dataset\n",
    "df_cal['year'].value_counts()"
   ]
  },
  {
   "cell_type": "code",
   "execution_count": 12,
   "id": "d2b00803",
   "metadata": {},
   "outputs": [
    {
     "name": "stdout",
     "output_type": "stream",
     "text": [
      "[1, 2, 3, 4, 5, 6, 7, 8, 9, 10, 11, 12]\n"
     ]
    }
   ],
   "source": [
    "# use only year 2016, because there are the most data and I want to prevent to overlap different years\n",
    "df_cal_2016 = df_cal.loc[df_cal['year'] == 2016]\n",
    "\n",
    "avail=[]\n",
    "month=[]\n",
    "for jj in range(1,13):\n",
    "    df_temp = df_cal_2016.loc[df_cal['month'] == jj]\n",
    "    avail.append(df_temp['available'].value_counts()['t']/len(df_temp['available'])*100)\n",
    "    month.append(jj)\n",
    "    \n",
    "print(month)"
   ]
  },
  {
   "cell_type": "code",
   "execution_count": 13,
   "id": "3da0be82",
   "metadata": {},
   "outputs": [
    {
     "name": "stderr",
     "output_type": "stream",
     "text": [
      "C:\\Users\\z622912\\AppData\\Local\\Temp\\ipykernel_31964\\2316158984.py:4: SettingWithCopyWarning: \n",
      "A value is trying to be set on a copy of a slice from a DataFrame.\n",
      "Try using .loc[row_indexer,col_indexer] = value instead\n",
      "\n",
      "See the caveats in the documentation: https://pandas.pydata.org/pandas-docs/stable/user_guide/indexing.html#returning-a-view-versus-a-copy\n",
      "  df_cal_2016_nan['price'] = df_cal_2016_nan['price'].apply(lambda x : x[1:] if x.startswith(\"$\") else x)\n",
      "C:\\Users\\z622912\\AppData\\Local\\Temp\\ipykernel_31964\\2316158984.py:5: SettingWithCopyWarning: \n",
      "A value is trying to be set on a copy of a slice from a DataFrame.\n",
      "Try using .loc[row_indexer,col_indexer] = value instead\n",
      "\n",
      "See the caveats in the documentation: https://pandas.pydata.org/pandas-docs/stable/user_guide/indexing.html#returning-a-view-versus-a-copy\n",
      "  df_cal_2016_nan['price'] = df_cal_2016_nan['price'].apply(lambda x :  x.replace(\",\", \"\"))\n"
     ]
    }
   ],
   "source": [
    "# drop nans\n",
    "df_cal_2016_nan = df_cal_2016.dropna(subset=['price'], axis=0)\n",
    "# convert price to only numbers (preprocessing for later float conversion)\n",
    "df_cal_2016_nan['price'] = df_cal_2016_nan['price'].apply(lambda x : x[1:] if x.startswith(\"$\") else x)\n",
    "df_cal_2016_nan['price'] = df_cal_2016_nan['price'].apply(lambda x :  x.replace(\",\", \"\"))"
   ]
  },
  {
   "cell_type": "code",
   "execution_count": 14,
   "id": "a369a465",
   "metadata": {},
   "outputs": [],
   "source": [
    "# calculate mean price for different months\n",
    "price = []\n",
    "for jj in range(1,13):\n",
    "    df_temp = df_cal_2016_nan.loc[df_cal_2016_nan['month'] == jj]\n",
    "    price.append(df_temp['price'].astype(float).mean())"
   ]
  },
  {
   "cell_type": "code",
   "execution_count": 15,
   "id": "d19bb6a3",
   "metadata": {},
   "outputs": [
    {
     "data": {
      "image/png": "[encoded data removed]",
      "text/plain": [
       "<Figure size 432x288 with 1 Axes>"
      ]
     },
     "metadata": {
      "needs_background": "light"
     },
     "output_type": "display_data"
    },
    {
     "name": "stdout",
     "output_type": "stream",
     "text": [
      "January are the busiest month in the year, In March and December are a lot of accomodations available. It looks like that in summer are a little bit more visitors in Seattle than in winter.\n"
     ]
    }
   ],
   "source": [
    "# plot Available Accomodations over Months in Seattle\n",
    "months = ['Jan', 'Feb', 'Mar', 'Apr', 'May', 'Jun', 'Jul', 'Aug', 'Sep', 'Oct', 'Nov', 'Dec']\n",
    "plt.bar(months, avail)\n",
    "plt.title('Available Accomodations over Months in Seattle')\n",
    "plt.xlabel('Months')\n",
    "plt.xticks(rotation=30)\n",
    "plt.ylabel('Availability in %')\n",
    "# Displaying the bar plot\n",
    "plt.show()\n",
    "print('January are the busiest month in the year, In March and December are a lot of accomodations available. It looks like that in summer are a little bit more visitors in Seattle than in winter.')"
   ]
  },
  {
   "cell_type": "code",
   "execution_count": 16,
   "id": "9ce1fa47",
   "metadata": {},
   "outputs": [
    {
     "data": {
      "image/png": "[encoded data removed]",
      "text/plain": [
       "<Figure size 432x288 with 1 Axes>"
      ]
     },
     "metadata": {
      "needs_background": "light"
     },
     "output_type": "display_data"
    },
    {
     "name": "stdout",
     "output_type": "stream",
     "text": [
      "The prices are getting higher during summer than in winter. The maximum is reached in july and the minimum in december.\n"
     ]
    }
   ],
   "source": [
    "# plot Price of Accomodations over Months in Seattle\n",
    "months = ['Jan', 'Feb', 'Mar', 'Apr', 'May', 'Jun', 'Jul', 'Aug', 'Sep', 'Oct', 'Nov', 'Dec']\n",
    "plt.bar(months, price)\n",
    "plt.title('Price of Accomodations over Months in Seattle')\n",
    "plt.xlabel('Months')\n",
    "plt.xticks(rotation=30)\n",
    "plt.ylabel('Availability in %')\n",
    "# Displaying the bar plot\n",
    "plt.show()\n",
    "\n",
    "print('The prices are getting higher during summer than in winter. The maximum is reached in july and the minimum in december.')"
   ]
  },
  {
   "cell_type": "code",
   "execution_count": 21,
   "id": "70806866",
   "metadata": {},
   "outputs": [
    {
     "data": {
      "text/plain": [
       "0.1260832494969748"
      ]
     },
     "execution_count": 21,
     "metadata": {},
     "output_type": "execute_result"
    }
   ],
   "source": [
    "avail_np = np.array(avail)\n",
    "price_np = np.array(price)\n",
    "\n",
    "np.corrcoef(avail_np, price_np)[0,1]"
   ]
  },
  {
   "cell_type": "markdown",
   "id": "ed401366",
   "metadata": {},
   "source": [
    "There is only a very small positive corellation between the price and the availability per months. In summer is the a lower availability an therefore the prices are higher than in winter."
   ]
  },
  {
   "cell_type": "code",
   "execution_count": 18,
   "id": "4371090e",
   "metadata": {},
   "outputs": [
    {
     "name": "stdout",
     "output_type": "stream",
     "text": [
      "1     2275\n",
      "2      989\n",
      "4      237\n",
      "0       92\n",
      "3       80\n",
      "6       71\n",
      "5       28\n",
      "8       24\n",
      "7       14\n",
      "10       2\n",
      "9        2\n",
      "11       1\n",
      "15       1\n",
      "13       1\n",
      "12       1\n",
      "Name: guests_included, dtype: int64\n"
     ]
    },
    {
     "data": {
      "image/png": "[encoded data removed]",
      "text/plain": [
       "<Figure size 432x288 with 1 Axes>"
      ]
     },
     "metadata": {
      "needs_background": "light"
     },
     "output_type": "display_data"
    }
   ],
   "source": [
    "# available accomodations for different group sizes\n",
    "people_size = []\n",
    "nr_acc = []\n",
    "uniq_val = df_lis['guests_included'].unique()\n",
    "for idx in uniq_val:\n",
    "    nr_acc.append(df_lis['guests_included'].value_counts()[idx])\n",
    "    people_size.append(idx)\n",
    "#df_lis['guests_included'].value_counts()#.to_list()\n",
    "print(df_lis['guests_included'].value_counts())\n",
    "\n",
    "# plot Availability of Accomomdations for different group sizes\n",
    "plt.bar(people_size, nr_acc)\n",
    "plt.title('Availability of Accomomdations for different group sizes')\n",
    "plt.xlabel('Included amount of people')\n",
    "plt.xticks(rotation=30)\n",
    "plt.ylabel('Amount of Accomodations')\n",
    "# Displaying the bar plot\n",
    "plt.show()\n",
    "\n"
   ]
  },
  {
   "cell_type": "markdown",
   "id": "111f5340",
   "metadata": {},
   "source": [
    "It is easy to see, that there are a lot of accommodations for 1 and 2 persons and a few for 3-8 persons. For this study we neglet the possibility to add extra persons in a room. We only focus on the already included amount of people. To have a dataset with at least 10 different accomodations, we use for the next analysis only the accomodations where 1-8 persons are already included."
   ]
  },
  {
   "cell_type": "code",
   "execution_count": 19,
   "id": "b98a0459",
   "metadata": {},
   "outputs": [],
   "source": [
    "# cheapest prices and most expensive prices for different group sizes\n",
    "df_lis['price'] = df_lis['price'].apply(lambda x : x[1:] if x.startswith(\"$\") else x)\n",
    "df_lis['price'] = df_lis['price'].apply(lambda x :  x.replace(\",\", \"\"))"
   ]
  },
  {
   "cell_type": "code",
   "execution_count": 20,
   "id": "4cb25391",
   "metadata": {},
   "outputs": [
    {
     "data": {
      "text/plain": [
       "Text(0.5, 1.0, 'total prices over group size')"
      ]
     },
     "execution_count": 20,
     "metadata": {},
     "output_type": "execute_result"
    },
    {
     "data": {
      "image/png": "[encoded data removed]",
      "text/plain": [
       "<Figure size 432x288 with 1 Axes>"
      ]
     },
     "metadata": {
      "needs_background": "light"
     },
     "output_type": "display_data"
    }
   ],
   "source": [
    "# calculate max, min and average prices for different group sizes\n",
    "max_price = []\n",
    "min_price = []\n",
    "group_size = []\n",
    "avg_price=[]\n",
    "for i in range(1,9):\n",
    "    max_price.append(df_lis.loc[df_lis['guests_included']==i, 'price'].astype(float).max())\n",
    "    min_price.append(df_lis.loc[df_lis['guests_included']==i, 'price'].astype(float).min())\n",
    "    avg_price.append(df_lis.loc[df_lis['guests_included']==i, 'price'].astype(float).mean())\n",
    "    group_size.append(i)\n",
    "\n",
    "#plot\n",
    "plt.plot(group_size, min_price,color='blue')\n",
    "plt.plot(group_size, max_price, color='red')\n",
    "plt.plot(group_size, avg_price, color='black')\n",
    "plt.fill_between(group_size, min_price, max_price, color='red', alpha=0.5)\n",
    "plt.xlabel('group size')\n",
    "plt.ylabel('price in $')\n",
    "plt.legend(['min', 'max', 'avg'])\n",
    "plt.title('total prices over group size')\n"
   ]
  },
  {
   "cell_type": "markdown",
   "id": "096826bf",
   "metadata": {},
   "source": [
    "The min price is roughly increasing with the amount of gropu size. That means it make sense to only search for the group size which you really need, if you want to spend the night very cheap. But there is an exception at 5 persons. So if you are only 5 Persons it could make sense to search also for accomodations for 6 oder 7 persons, because they could be cheaper. The same effect can be seen in the average price. If you are actually 6 Persons you should also search for 7 Persons, because this accomodations are in average cheaper than the 6 Persons accomodations. In total it can be seen that there are only a few very expensive accomodations, because the average cuve is very close to the min curve and far away from the max curve. Interessting fun fact: it is possible to spend a night for a single person for 1000$ in Seattle."
   ]
  },
  {
   "cell_type": "code",
   "execution_count": null,
   "id": "69c76b60",
   "metadata": {},
   "outputs": [],
   "source": [
    "\n"
   ]
  }
 ],
 "metadata": {
  "kernelspec": {
   "display_name": "Python 3 (ipykernel)",
   "language": "python",
   "name": "python3"
  },
  "language_info": {
   "codemirror_mode": {
    "name": "ipython",
    "version": 3
   },
   "file_extension": ".py",
   "mimetype": "text/x-python",
   "name": "python",
   "nbconvert_exporter": "python",
   "pygments_lexer": "ipython3",
   "version": "3.9.12"
  }
 },
 "nbformat": 4,
 "nbformat_minor": 5
}
