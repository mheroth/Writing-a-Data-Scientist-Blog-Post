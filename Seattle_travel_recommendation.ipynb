{
 "cells": [
  {
   "cell_type": "markdown",
   "id": "1c5ea0c1",
   "metadata": {},
   "source": [
    "#### Seattle_travel_recommendation"
   ]
  },
  {
   "cell_type": "markdown",
   "id": "d4b4d373",
   "metadata": {},
   "source": [
    "#### Business Understanding\n",
    "Seattle is the largest city in the northwestern United States. Seattle has been voted the “most liveable city” in the USA several times and each year the pearl of the Northwest welcomes more than a million tourists into its care. Due to this large number of visitors, there are many different types of accommodation. We would like to give the airbnb users some hints to find the best and cheapest way to stay in Seattle. Therefore we would like to answer the following questions:\n",
    "1. Which accommodations have the best ratio of rating and price mean_rating/price\n",
    "2. What are the busiest months of the year to visit Seattle? Is this related to prices?\n",
    "3. How many accommodations are there for larger groups?\n",
    "4. Is it always cheapest to look for your actual group size in Seattle? Or should I also look for larger accommodations as the total price could be lower?\n",
    "5. What is the price for the most expensive night for a person in Seattle?"
   ]
  },
  {
   "cell_type": "markdown",
   "id": "0b12034f",
   "metadata": {},
   "source": [
    "#### Data Understanding\n",
    "Access and Explore"
   ]
  },
  {
   "cell_type": "code",
   "execution_count": 1,
   "id": "252055fa",
   "metadata": {},
   "outputs": [
    {
     "data": {
      "text/html": [
       "<div>\n",
       "<style scoped>\n",
       "    .dataframe tbody tr th:only-of-type {\n",
       "        vertical-align: middle;\n",
       "    }\n",
       "\n",
       "    .dataframe tbody tr th {\n",
       "        vertical-align: top;\n",
       "    }\n",
       "\n",
       "    .dataframe thead th {\n",
       "        text-align: right;\n",
       "    }\n",
       "</style>\n",
       "<table border=\"1\" class=\"dataframe\">\n",
       "  <thead>\n",
       "    <tr style=\"text-align: right;\">\n",
       "      <th></th>\n",
       "      <th>listing_id</th>\n",
       "      <th>date</th>\n",
       "      <th>available</th>\n",
       "      <th>price</th>\n",
       "    </tr>\n",
       "  </thead>\n",
       "  <tbody>\n",
       "    <tr>\n",
       "      <th>0</th>\n",
       "      <td>241032</td>\n",
       "      <td>2016-01-04</td>\n",
       "      <td>t</td>\n",
       "      <td>$85.00</td>\n",
       "    </tr>\n",
       "    <tr>\n",
       "      <th>1</th>\n",
       "      <td>241032</td>\n",
       "      <td>2016-01-05</td>\n",
       "      <td>t</td>\n",
       "      <td>$85.00</td>\n",
       "    </tr>\n",
       "    <tr>\n",
       "      <th>2</th>\n",
       "      <td>241032</td>\n",
       "      <td>2016-01-06</td>\n",
       "      <td>f</td>\n",
       "      <td>NaN</td>\n",
       "    </tr>\n",
       "    <tr>\n",
       "      <th>3</th>\n",
       "      <td>241032</td>\n",
       "      <td>2016-01-07</td>\n",
       "      <td>f</td>\n",
       "      <td>NaN</td>\n",
       "    </tr>\n",
       "    <tr>\n",
       "      <th>4</th>\n",
       "      <td>241032</td>\n",
       "      <td>2016-01-08</td>\n",
       "      <td>f</td>\n",
       "      <td>NaN</td>\n",
       "    </tr>\n",
       "  </tbody>\n",
       "</table>\n",
       "</div>"
      ],
      "text/plain": [
       "   listing_id        date available   price\n",
       "0      241032  2016-01-04         t  $85.00\n",
       "1      241032  2016-01-05         t  $85.00\n",
       "2      241032  2016-01-06         f     NaN\n",
       "3      241032  2016-01-07         f     NaN\n",
       "4      241032  2016-01-08         f     NaN"
      ]
     },
     "execution_count": 1,
     "metadata": {},
     "output_type": "execute_result"
    }
   ],
   "source": [
    "import numpy as np\n",
    "import pandas as pd\n",
    "import matplotlib.pyplot as plt\n",
    "from sklearn.linear_model import LinearRegression\n",
    "from sklearn.model_selection import train_test_split\n",
    "from sklearn.metrics import r2_score, mean_squared_error\n",
    "import seaborn as sns\n",
    "%matplotlib inline\n",
    "\n",
    "# read calendar.csv\n",
    "df_cal = pd.read_csv('./calendar.csv')\n",
    "df_cal.head()"
   ]
  },
  {
   "cell_type": "code",
   "execution_count": 2,
   "id": "da033dc2",
   "metadata": {},
   "outputs": [
    {
     "data": {
      "text/html": [
       "<div>\n",
       "<style scoped>\n",
       "    .dataframe tbody tr th:only-of-type {\n",
       "        vertical-align: middle;\n",
       "    }\n",
       "\n",
       "    .dataframe tbody tr th {\n",
       "        vertical-align: top;\n",
       "    }\n",
       "\n",
       "    .dataframe thead th {\n",
       "        text-align: right;\n",
       "    }\n",
       "</style>\n",
       "<table border=\"1\" class=\"dataframe\">\n",
       "  <thead>\n",
       "    <tr style=\"text-align: right;\">\n",
       "      <th></th>\n",
       "      <th>id</th>\n",
       "      <th>listing_url</th>\n",
       "      <th>scrape_id</th>\n",
       "      <th>last_scraped</th>\n",
       "      <th>name</th>\n",
       "      <th>summary</th>\n",
       "      <th>space</th>\n",
       "      <th>description</th>\n",
       "      <th>experiences_offered</th>\n",
       "      <th>neighborhood_overview</th>\n",
       "      <th>...</th>\n",
       "      <th>review_scores_value</th>\n",
       "      <th>requires_license</th>\n",
       "      <th>license</th>\n",
       "      <th>jurisdiction_names</th>\n",
       "      <th>instant_bookable</th>\n",
       "      <th>cancellation_policy</th>\n",
       "      <th>require_guest_profile_picture</th>\n",
       "      <th>require_guest_phone_verification</th>\n",
       "      <th>calculated_host_listings_count</th>\n",
       "      <th>reviews_per_month</th>\n",
       "    </tr>\n",
       "  </thead>\n",
       "  <tbody>\n",
       "    <tr>\n",
       "      <th>0</th>\n",
       "      <td>241032</td>\n",
       "      <td>https://www.airbnb.com/rooms/241032</td>\n",
       "      <td>20160104002432</td>\n",
       "      <td>2016-01-04</td>\n",
       "      <td>Stylish Queen Anne Apartment</td>\n",
       "      <td>NaN</td>\n",
       "      <td>Make your self at home in this charming one-be...</td>\n",
       "      <td>Make your self at home in this charming one-be...</td>\n",
       "      <td>none</td>\n",
       "      <td>NaN</td>\n",
       "      <td>...</td>\n",
       "      <td>10.0</td>\n",
       "      <td>f</td>\n",
       "      <td>NaN</td>\n",
       "      <td>WASHINGTON</td>\n",
       "      <td>f</td>\n",
       "      <td>moderate</td>\n",
       "      <td>f</td>\n",
       "      <td>f</td>\n",
       "      <td>2</td>\n",
       "      <td>4.07</td>\n",
       "    </tr>\n",
       "    <tr>\n",
       "      <th>1</th>\n",
       "      <td>953595</td>\n",
       "      <td>https://www.airbnb.com/rooms/953595</td>\n",
       "      <td>20160104002432</td>\n",
       "      <td>2016-01-04</td>\n",
       "      <td>Bright &amp; Airy Queen Anne Apartment</td>\n",
       "      <td>Chemically sensitive? We've removed the irrita...</td>\n",
       "      <td>Beautiful, hypoallergenic apartment in an extr...</td>\n",
       "      <td>Chemically sensitive? We've removed the irrita...</td>\n",
       "      <td>none</td>\n",
       "      <td>Queen Anne is a wonderful, truly functional vi...</td>\n",
       "      <td>...</td>\n",
       "      <td>10.0</td>\n",
       "      <td>f</td>\n",
       "      <td>NaN</td>\n",
       "      <td>WASHINGTON</td>\n",
       "      <td>f</td>\n",
       "      <td>strict</td>\n",
       "      <td>t</td>\n",
       "      <td>t</td>\n",
       "      <td>6</td>\n",
       "      <td>1.48</td>\n",
       "    </tr>\n",
       "    <tr>\n",
       "      <th>2</th>\n",
       "      <td>3308979</td>\n",
       "      <td>https://www.airbnb.com/rooms/3308979</td>\n",
       "      <td>20160104002432</td>\n",
       "      <td>2016-01-04</td>\n",
       "      <td>New Modern House-Amazing water view</td>\n",
       "      <td>New modern house built in 2013.  Spectacular s...</td>\n",
       "      <td>Our house is modern, light and fresh with a wa...</td>\n",
       "      <td>New modern house built in 2013.  Spectacular s...</td>\n",
       "      <td>none</td>\n",
       "      <td>Upper Queen Anne is a charming neighborhood fu...</td>\n",
       "      <td>...</td>\n",
       "      <td>10.0</td>\n",
       "      <td>f</td>\n",
       "      <td>NaN</td>\n",
       "      <td>WASHINGTON</td>\n",
       "      <td>f</td>\n",
       "      <td>strict</td>\n",
       "      <td>f</td>\n",
       "      <td>f</td>\n",
       "      <td>2</td>\n",
       "      <td>1.15</td>\n",
       "    </tr>\n",
       "    <tr>\n",
       "      <th>3</th>\n",
       "      <td>7421966</td>\n",
       "      <td>https://www.airbnb.com/rooms/7421966</td>\n",
       "      <td>20160104002432</td>\n",
       "      <td>2016-01-04</td>\n",
       "      <td>Queen Anne Chateau</td>\n",
       "      <td>A charming apartment that sits atop Queen Anne...</td>\n",
       "      <td>NaN</td>\n",
       "      <td>A charming apartment that sits atop Queen Anne...</td>\n",
       "      <td>none</td>\n",
       "      <td>NaN</td>\n",
       "      <td>...</td>\n",
       "      <td>NaN</td>\n",
       "      <td>f</td>\n",
       "      <td>NaN</td>\n",
       "      <td>WASHINGTON</td>\n",
       "      <td>f</td>\n",
       "      <td>flexible</td>\n",
       "      <td>f</td>\n",
       "      <td>f</td>\n",
       "      <td>1</td>\n",
       "      <td>NaN</td>\n",
       "    </tr>\n",
       "    <tr>\n",
       "      <th>4</th>\n",
       "      <td>278830</td>\n",
       "      <td>https://www.airbnb.com/rooms/278830</td>\n",
       "      <td>20160104002432</td>\n",
       "      <td>2016-01-04</td>\n",
       "      <td>Charming craftsman 3 bdm house</td>\n",
       "      <td>Cozy family craftman house in beautiful neighb...</td>\n",
       "      <td>Cozy family craftman house in beautiful neighb...</td>\n",
       "      <td>Cozy family craftman house in beautiful neighb...</td>\n",
       "      <td>none</td>\n",
       "      <td>We are in the beautiful neighborhood of Queen ...</td>\n",
       "      <td>...</td>\n",
       "      <td>9.0</td>\n",
       "      <td>f</td>\n",
       "      <td>NaN</td>\n",
       "      <td>WASHINGTON</td>\n",
       "      <td>f</td>\n",
       "      <td>strict</td>\n",
       "      <td>f</td>\n",
       "      <td>f</td>\n",
       "      <td>1</td>\n",
       "      <td>0.89</td>\n",
       "    </tr>\n",
       "  </tbody>\n",
       "</table>\n",
       "<p>5 rows × 92 columns</p>\n",
       "</div>"
      ],
      "text/plain": [
       "        id                           listing_url       scrape_id last_scraped  \\\n",
       "0   241032   https://www.airbnb.com/rooms/241032  20160104002432   2016-01-04   \n",
       "1   953595   https://www.airbnb.com/rooms/953595  20160104002432   2016-01-04   \n",
       "2  3308979  https://www.airbnb.com/rooms/3308979  20160104002432   2016-01-04   \n",
       "3  7421966  https://www.airbnb.com/rooms/7421966  20160104002432   2016-01-04   \n",
       "4   278830   https://www.airbnb.com/rooms/278830  20160104002432   2016-01-04   \n",
       "\n",
       "                                  name  \\\n",
       "0         Stylish Queen Anne Apartment   \n",
       "1   Bright & Airy Queen Anne Apartment   \n",
       "2  New Modern House-Amazing water view   \n",
       "3                   Queen Anne Chateau   \n",
       "4       Charming craftsman 3 bdm house   \n",
       "\n",
       "                                             summary  \\\n",
       "0                                                NaN   \n",
       "1  Chemically sensitive? We've removed the irrita...   \n",
       "2  New modern house built in 2013.  Spectacular s...   \n",
       "3  A charming apartment that sits atop Queen Anne...   \n",
       "4  Cozy family craftman house in beautiful neighb...   \n",
       "\n",
       "                                               space  \\\n",
       "0  Make your self at home in this charming one-be...   \n",
       "1  Beautiful, hypoallergenic apartment in an extr...   \n",
       "2  Our house is modern, light and fresh with a wa...   \n",
       "3                                                NaN   \n",
       "4  Cozy family craftman house in beautiful neighb...   \n",
       "\n",
       "                                         description experiences_offered  \\\n",
       "0  Make your self at home in this charming one-be...                none   \n",
       "1  Chemically sensitive? We've removed the irrita...                none   \n",
       "2  New modern house built in 2013.  Spectacular s...                none   \n",
       "3  A charming apartment that sits atop Queen Anne...                none   \n",
       "4  Cozy family craftman house in beautiful neighb...                none   \n",
       "\n",
       "                               neighborhood_overview  ... review_scores_value  \\\n",
       "0                                                NaN  ...                10.0   \n",
       "1  Queen Anne is a wonderful, truly functional vi...  ...                10.0   \n",
       "2  Upper Queen Anne is a charming neighborhood fu...  ...                10.0   \n",
       "3                                                NaN  ...                 NaN   \n",
       "4  We are in the beautiful neighborhood of Queen ...  ...                 9.0   \n",
       "\n",
       "  requires_license license jurisdiction_names instant_bookable  \\\n",
       "0                f     NaN         WASHINGTON                f   \n",
       "1                f     NaN         WASHINGTON                f   \n",
       "2                f     NaN         WASHINGTON                f   \n",
       "3                f     NaN         WASHINGTON                f   \n",
       "4                f     NaN         WASHINGTON                f   \n",
       "\n",
       "  cancellation_policy  require_guest_profile_picture  \\\n",
       "0            moderate                              f   \n",
       "1              strict                              t   \n",
       "2              strict                              f   \n",
       "3            flexible                              f   \n",
       "4              strict                              f   \n",
       "\n",
       "  require_guest_phone_verification calculated_host_listings_count  \\\n",
       "0                                f                              2   \n",
       "1                                t                              6   \n",
       "2                                f                              2   \n",
       "3                                f                              1   \n",
       "4                                f                              1   \n",
       "\n",
       "  reviews_per_month  \n",
       "0              4.07  \n",
       "1              1.48  \n",
       "2              1.15  \n",
       "3               NaN  \n",
       "4              0.89  \n",
       "\n",
       "[5 rows x 92 columns]"
      ]
     },
     "execution_count": 2,
     "metadata": {},
     "output_type": "execute_result"
    }
   ],
   "source": [
    "# read listing.csv\n",
    "df_lis = pd.read_csv('./listings.csv')\n",
    "df_lis.head()"
   ]
  },
  {
   "cell_type": "code",
   "execution_count": 3,
   "id": "3156ce01",
   "metadata": {},
   "outputs": [
    {
     "data": {
      "text/html": [
       "<div>\n",
       "<style scoped>\n",
       "    .dataframe tbody tr th:only-of-type {\n",
       "        vertical-align: middle;\n",
       "    }\n",
       "\n",
       "    .dataframe tbody tr th {\n",
       "        vertical-align: top;\n",
       "    }\n",
       "\n",
       "    .dataframe thead th {\n",
       "        text-align: right;\n",
       "    }\n",
       "</style>\n",
       "<table border=\"1\" class=\"dataframe\">\n",
       "  <thead>\n",
       "    <tr style=\"text-align: right;\">\n",
       "      <th></th>\n",
       "      <th>listing_id</th>\n",
       "      <th>id</th>\n",
       "      <th>date</th>\n",
       "      <th>reviewer_id</th>\n",
       "      <th>reviewer_name</th>\n",
       "      <th>comments</th>\n",
       "    </tr>\n",
       "  </thead>\n",
       "  <tbody>\n",
       "    <tr>\n",
       "      <th>0</th>\n",
       "      <td>7202016</td>\n",
       "      <td>38917982</td>\n",
       "      <td>2015-07-19</td>\n",
       "      <td>28943674</td>\n",
       "      <td>Bianca</td>\n",
       "      <td>Cute and cozy place. Perfect location to every...</td>\n",
       "    </tr>\n",
       "    <tr>\n",
       "      <th>1</th>\n",
       "      <td>7202016</td>\n",
       "      <td>39087409</td>\n",
       "      <td>2015-07-20</td>\n",
       "      <td>32440555</td>\n",
       "      <td>Frank</td>\n",
       "      <td>Kelly has a great room in a very central locat...</td>\n",
       "    </tr>\n",
       "    <tr>\n",
       "      <th>2</th>\n",
       "      <td>7202016</td>\n",
       "      <td>39820030</td>\n",
       "      <td>2015-07-26</td>\n",
       "      <td>37722850</td>\n",
       "      <td>Ian</td>\n",
       "      <td>Very spacious apartment, and in a great neighb...</td>\n",
       "    </tr>\n",
       "    <tr>\n",
       "      <th>3</th>\n",
       "      <td>7202016</td>\n",
       "      <td>40813543</td>\n",
       "      <td>2015-08-02</td>\n",
       "      <td>33671805</td>\n",
       "      <td>George</td>\n",
       "      <td>Close to Seattle Center and all it has to offe...</td>\n",
       "    </tr>\n",
       "    <tr>\n",
       "      <th>4</th>\n",
       "      <td>7202016</td>\n",
       "      <td>41986501</td>\n",
       "      <td>2015-08-10</td>\n",
       "      <td>34959538</td>\n",
       "      <td>Ming</td>\n",
       "      <td>Kelly was a great host and very accommodating ...</td>\n",
       "    </tr>\n",
       "  </tbody>\n",
       "</table>\n",
       "</div>"
      ],
      "text/plain": [
       "   listing_id        id        date  reviewer_id reviewer_name  \\\n",
       "0     7202016  38917982  2015-07-19     28943674        Bianca   \n",
       "1     7202016  39087409  2015-07-20     32440555         Frank   \n",
       "2     7202016  39820030  2015-07-26     37722850           Ian   \n",
       "3     7202016  40813543  2015-08-02     33671805        George   \n",
       "4     7202016  41986501  2015-08-10     34959538          Ming   \n",
       "\n",
       "                                            comments  \n",
       "0  Cute and cozy place. Perfect location to every...  \n",
       "1  Kelly has a great room in a very central locat...  \n",
       "2  Very spacious apartment, and in a great neighb...  \n",
       "3  Close to Seattle Center and all it has to offe...  \n",
       "4  Kelly was a great host and very accommodating ...  "
      ]
     },
     "execution_count": 3,
     "metadata": {},
     "output_type": "execute_result"
    }
   ],
   "source": [
    "# read reviews.csv\n",
    "df_rev = pd.read_csv('./reviews.csv')\n",
    "df_rev.head()"
   ]
  },
  {
   "cell_type": "markdown",
   "id": "4c9a55a3",
   "metadata": {},
   "source": [
    "#### Prepare Data\n",
    "Wrangle and Clean"
   ]
  },
  {
   "cell_type": "code",
   "execution_count": 4,
   "id": "0fd0a274",
   "metadata": {},
   "outputs": [
    {
     "name": "stdout",
     "output_type": "stream",
     "text": [
      "original dataset size:\n",
      "38180\n",
      "drop_rating_df size:\n",
      "31710\n",
      "drop_accuracy_df size:\n",
      "31600\n",
      "drop_cleanliness_df size:\n",
      "31600\n",
      "drop_checkin_df size:\n",
      "31590\n",
      "drop_communication_df size:\n",
      "31590\n",
      "drop_location_df size:\n",
      "31590\n",
      "drop_price_df size:\n",
      "31590\n",
      "drop_value_df size:\n",
      "31580\n"
     ]
    }
   ],
   "source": [
    "#Only use review variables and drop any rows with missing values\n",
    "num_vars = df_lis[['id', 'listing_url', 'review_scores_rating', 'review_scores_accuracy', 'review_scores_cleanliness', 'review_scores_checkin', 'review_scores_communication', 'review_scores_location', 'review_scores_value', 'price']]\n",
    "num_vars.head(30)\n",
    "print('original dataset size:')\n",
    "print(num_vars.size)\n",
    "\n",
    "#Drop the rows with missing reviews\n",
    "drop_rating_df = num_vars.dropna(subset=['review_scores_rating'], axis=0)\n",
    "drop_accuracy_df = drop_rating_df.dropna(subset=['review_scores_accuracy'], axis=0)\n",
    "drop_cleanliness_df = drop_accuracy_df.dropna(subset=['review_scores_cleanliness'], axis=0)\n",
    "drop_checkin_df = drop_cleanliness_df.dropna(subset=['review_scores_checkin'], axis=0)\n",
    "drop_communication_df = drop_checkin_df.dropna(subset=['review_scores_communication'], axis=0)\n",
    "drop_location_df = drop_communication_df.dropna(subset=['review_scores_location'], axis=0)\n",
    "drop_price_df = drop_location_df.dropna(subset=['price'], axis=0)\n",
    "drop_value_df = drop_price_df.dropna(subset=['review_scores_value'], axis=0)\n",
    "\n",
    "print('drop_rating_df size:')\n",
    "print(drop_rating_df.size)\n",
    "\n",
    "print('drop_accuracy_df size:')\n",
    "print(drop_accuracy_df.size)\n",
    "\n",
    "print('drop_cleanliness_df size:')\n",
    "print(drop_cleanliness_df.size)\n",
    "\n",
    "print('drop_checkin_df size:')\n",
    "print(drop_checkin_df.size)\n",
    "\n",
    "print('drop_communication_df size:')\n",
    "print(drop_communication_df.size)\n",
    "\n",
    "print('drop_location_df size:')\n",
    "print(drop_location_df.size)\n",
    "\n",
    "print('drop_price_df size:')\n",
    "print(drop_price_df.size)\n",
    "\n",
    "print('drop_value_df size:')\n",
    "print(drop_value_df.size)\n",
    "\n",
    "# separate date column into yera, month, day columns for later use\n",
    "int(df_cal['date'][0].split('-')[0])\n",
    "df_cal['year'] = df_cal['date'].apply(lambda x : int(x.split('-')[0]))\n",
    "df_cal['month'] = df_cal['date'].apply(lambda x : int(x.split('-')[1]))\n",
    "df_cal['day'] = df_cal['date'].apply(lambda x : int(x.split('-')[2]))"
   ]
  },
  {
   "cell_type": "markdown",
   "id": "ff68a1a3",
   "metadata": {},
   "source": [
    "#### Question 1\n",
    "Which accommodations have the best ratio of rating and price mean_rating/price\n",
    "\n",
    "#### Analyze"
   ]
  },
  {
   "cell_type": "code",
   "execution_count": 5,
   "id": "3855926b",
   "metadata": {},
   "outputs": [
    {
     "name": "stderr",
     "output_type": "stream",
     "text": [
      "C:\\Users\\z622912\\AppData\\Local\\Temp\\ipykernel_28120\\2359710424.py:2: SettingWithCopyWarning: \n",
      "A value is trying to be set on a copy of a slice from a DataFrame.\n",
      "Try using .loc[row_indexer,col_indexer] = value instead\n",
      "\n",
      "See the caveats in the documentation: https://pandas.pydata.org/pandas-docs/stable/user_guide/indexing.html#returning-a-view-versus-a-copy\n",
      "  drop_value_df['mean_rating'] = drop_value_df[['review_scores_rating', 'review_scores_accuracy', 'review_scores_cleanliness', 'review_scores_checkin', 'review_scores_communication', 'review_scores_location', 'review_scores_value']].mean(axis=1)\n"
     ]
    }
   ],
   "source": [
    "# calculate mean of all ratings and create new column for that in drop_value_df dataframe\n",
    "drop_value_df['mean_rating'] = drop_value_df[['review_scores_rating', 'review_scores_accuracy', 'review_scores_cleanliness', 'review_scores_checkin', 'review_scores_communication', 'review_scores_location', 'review_scores_value']].mean(axis=1)"
   ]
  },
  {
   "cell_type": "code",
   "execution_count": 6,
   "id": "23218380",
   "metadata": {},
   "outputs": [
    {
     "name": "stderr",
     "output_type": "stream",
     "text": [
      "C:\\Users\\z622912\\AppData\\Local\\Temp\\ipykernel_28120\\627437609.py:8: SettingWithCopyWarning: \n",
      "A value is trying to be set on a copy of a slice from a DataFrame.\n",
      "Try using .loc[row_indexer,col_indexer] = value instead\n",
      "\n",
      "See the caveats in the documentation: https://pandas.pydata.org/pandas-docs/stable/user_guide/indexing.html#returning-a-view-versus-a-copy\n",
      "  drop_value_df['price'] = price2float(drop_value_df['price'])\n"
     ]
    }
   ],
   "source": [
    "# transform price from string into float values for later calculation\n",
    "def price2float(pd_price):\n",
    "    pd_price = pd_price.apply(lambda x : x[1:] if x.startswith(\"$\") else x)\n",
    "    pd_price = pd_price.apply(lambda x :  x.replace(\",\", \"\"))\n",
    "    pd_price.astype(float)\n",
    "    return pd_price\n",
    "\n",
    "drop_value_df['price'] = price2float(drop_value_df['price'])"
   ]
  },
  {
   "cell_type": "code",
   "execution_count": 7,
   "id": "2c09bfe3",
   "metadata": {},
   "outputs": [
    {
     "name": "stderr",
     "output_type": "stream",
     "text": [
      "C:\\Users\\z622912\\AppData\\Local\\Temp\\ipykernel_28120\\3182202663.py:2: SettingWithCopyWarning: \n",
      "A value is trying to be set on a copy of a slice from a DataFrame.\n",
      "Try using .loc[row_indexer,col_indexer] = value instead\n",
      "\n",
      "See the caveats in the documentation: https://pandas.pydata.org/pandas-docs/stable/user_guide/indexing.html#returning-a-view-versus-a-copy\n",
      "  drop_value_df['rev/price']=drop_value_df['mean_rating']/drop_value_df['price'].astype(float)\n"
     ]
    }
   ],
   "source": [
    "# calculate mean review divided by price\n",
    "drop_value_df['rev/price']=drop_value_df['mean_rating']/drop_value_df['price'].astype(float)"
   ]
  },
  {
   "cell_type": "code",
   "execution_count": 8,
   "id": "d0891dbf",
   "metadata": {},
   "outputs": [
    {
     "data": {
      "text/html": [
       "<div>\n",
       "<style scoped>\n",
       "    .dataframe tbody tr th:only-of-type {\n",
       "        vertical-align: middle;\n",
       "    }\n",
       "\n",
       "    .dataframe tbody tr th {\n",
       "        vertical-align: top;\n",
       "    }\n",
       "\n",
       "    .dataframe thead th {\n",
       "        text-align: right;\n",
       "    }\n",
       "</style>\n",
       "<table border=\"1\" class=\"dataframe\">\n",
       "  <thead>\n",
       "    <tr style=\"text-align: right;\">\n",
       "      <th></th>\n",
       "      <th>id</th>\n",
       "      <th>listing_url</th>\n",
       "      <th>review_scores_rating</th>\n",
       "      <th>review_scores_accuracy</th>\n",
       "      <th>review_scores_cleanliness</th>\n",
       "      <th>review_scores_checkin</th>\n",
       "      <th>review_scores_communication</th>\n",
       "      <th>review_scores_location</th>\n",
       "      <th>review_scores_value</th>\n",
       "      <th>price</th>\n",
       "      <th>mean_rating</th>\n",
       "      <th>rev/price</th>\n",
       "    </tr>\n",
       "  </thead>\n",
       "  <tbody>\n",
       "    <tr>\n",
       "      <th>2900</th>\n",
       "      <td>9727857</td>\n",
       "      <td>https://www.airbnb.com/rooms/9727857</td>\n",
       "      <td>100.0</td>\n",
       "      <td>10.0</td>\n",
       "      <td>10.0</td>\n",
       "      <td>10.0</td>\n",
       "      <td>10.0</td>\n",
       "      <td>10.0</td>\n",
       "      <td>10.0</td>\n",
       "      <td>25.00</td>\n",
       "      <td>22.857143</td>\n",
       "      <td>0.914286</td>\n",
       "    </tr>\n",
       "  </tbody>\n",
       "</table>\n",
       "</div>"
      ],
      "text/plain": [
       "           id                           listing_url  review_scores_rating  \\\n",
       "2900  9727857  https://www.airbnb.com/rooms/9727857                 100.0   \n",
       "\n",
       "      review_scores_accuracy  review_scores_cleanliness  \\\n",
       "2900                    10.0                       10.0   \n",
       "\n",
       "      review_scores_checkin  review_scores_communication  \\\n",
       "2900                   10.0                         10.0   \n",
       "\n",
       "      review_scores_location  review_scores_value  price  mean_rating  \\\n",
       "2900                    10.0                 10.0  25.00    22.857143   \n",
       "\n",
       "      rev/price  \n",
       "2900   0.914286  "
      ]
     },
     "execution_count": 8,
     "metadata": {},
     "output_type": "execute_result"
    }
   ],
   "source": [
    "# show header with new column 'rev/price'\n",
    "drop_value_df.head(10)\n",
    "drop_value_df[drop_value_df['id'] ==9727857]"
   ]
  },
  {
   "cell_type": "markdown",
   "id": "d8a9a66a",
   "metadata": {},
   "source": [
    "#### Visualize"
   ]
  },
  {
   "cell_type": "code",
   "execution_count": 9,
   "id": "c44eb73d",
   "metadata": {},
   "outputs": [
    {
     "data": {
      "image/png": "[encoded data removed]",
      "text/plain": [
       "<Figure size 432x288 with 1 Axes>"
      ]
     },
     "metadata": {
      "needs_background": "light"
     },
     "output_type": "display_data"
    }
   ],
   "source": [
    "# plot top 10 \n",
    "best10 = drop_value_df.nlargest(10, 'rev/price')\n",
    "# Importing the matplotlib library\n",
    "import matplotlib.pyplot as plt\n",
    "# Categorical data: Country names\n",
    "ids = best10['id'].astype(str).tolist()\n",
    "# Integer value interms of death counts\n",
    "rev_price = best10['rev/price'].tolist()\n",
    "# Passing the parameters to the bar function, this is the main function which creates the bar plot\n",
    "plt.bar(ids, rev_price)\n",
    "plt.title('Top 10 price-review-winner')\n",
    "plt.xlabel('id')\n",
    "plt.xticks(rotation=30)\n",
    "plt.ylabel('mean_review/price')\n",
    "# Displaying the bar plot\n",
    "plt.show()"
   ]
  },
  {
   "cell_type": "markdown",
   "id": "0c7a7e3c",
   "metadata": {},
   "source": [
    "#### Explain the visualization\n",
    "\n",
    "It can be seen that two shelters are at the top. These have a particularly good rating and low price and can be highly recommended. Here are the links to these accommodations:\n",
    "\n",
    "https://www.airbnb.com/rooms/10012724\n",
    "\n",
    "https://www.airbnb.com/rooms/9727857"
   ]
  },
  {
   "cell_type": "markdown",
   "id": "093f4167",
   "metadata": {},
   "source": [
    " #### Question 2 \n",
    " What are the busiest months of the year to visit Seattle? Is this related to prices?\n",
    " \n",
    " #### Analyze"
   ]
  },
  {
   "cell_type": "code",
   "execution_count": 10,
   "id": "1c164312",
   "metadata": {},
   "outputs": [
    {
     "data": {
      "text/plain": [
       "59239"
      ]
     },
     "execution_count": 10,
     "metadata": {},
     "output_type": "execute_result"
    }
   ],
   "source": [
    "# use only year 2016, because there are the most data and I want to prevent to overlap different years\n",
    "df_cal_2016 = df_cal.loc[df_cal['year'] == 2016]\n",
    "# check how many different years are in the dataset\n",
    "df_cal['year'].value_counts()\n",
    "\n",
    "df_temp = df_cal_2016.loc[df_cal['month'] == 1]\n",
    "df_temp['available'].value_counts()['t']"
   ]
  },
  {
   "cell_type": "code",
   "execution_count": 11,
   "id": "535c1852",
   "metadata": {},
   "outputs": [
    {
     "name": "stdout",
     "output_type": "stream",
     "text": [
      "[1, 2, 3, 4, 5, 6, 7, 8, 9, 10, 11, 12]\n"
     ]
    }
   ],
   "source": [
    "avail=[]\n",
    "month=[]\n",
    "for jj in range(1,13):\n",
    "    df_temp = df_cal_2016.loc[df_cal['month'] == jj]\n",
    "    avail.append(df_temp['available'].value_counts()['t']/len(df_temp['available'])*100)\n",
    "    month.append(jj)\n",
    "    \n",
    "print(month)"
   ]
  },
  {
   "cell_type": "code",
   "execution_count": 12,
   "id": "b923e722",
   "metadata": {},
   "outputs": [
    {
     "name": "stderr",
     "output_type": "stream",
     "text": [
      "C:\\Users\\z622912\\AppData\\Local\\Temp\\ipykernel_28120\\3886080996.py:4: SettingWithCopyWarning: \n",
      "A value is trying to be set on a copy of a slice from a DataFrame.\n",
      "Try using .loc[row_indexer,col_indexer] = value instead\n",
      "\n",
      "See the caveats in the documentation: https://pandas.pydata.org/pandas-docs/stable/user_guide/indexing.html#returning-a-view-versus-a-copy\n",
      "  df_cal_2016_nan['price'] = price2float(df_cal_2016_nan['price'])\n"
     ]
    }
   ],
   "source": [
    "# drop nans\n",
    "df_cal_2016_nan = df_cal_2016.dropna(subset=['price'], axis=0)\n",
    "# convert price to only numbers (preprocessing for later float conversion)\n",
    "df_cal_2016_nan['price'] = price2float(df_cal_2016_nan['price'])"
   ]
  },
  {
   "cell_type": "code",
   "execution_count": 13,
   "id": "3490705a",
   "metadata": {},
   "outputs": [],
   "source": [
    "# calculate mean price for different months\n",
    "price = []\n",
    "for jj in range(1,13):\n",
    "    df_temp = df_cal_2016_nan.loc[df_cal_2016_nan['month'] == jj]\n",
    "    price.append(df_temp['price'].astype(float).mean())"
   ]
  },
  {
   "cell_type": "markdown",
   "id": "b1354013",
   "metadata": {},
   "source": [
    "#### Visualize"
   ]
  },
  {
   "cell_type": "code",
   "execution_count": 14,
   "id": "c96863ee",
   "metadata": {},
   "outputs": [
    {
     "data": {
      "image/png": "[encoded data removed]",
      "text/plain": [
       "<Figure size 432x288 with 1 Axes>"
      ]
     },
     "metadata": {
      "needs_background": "light"
     },
     "output_type": "display_data"
    }
   ],
   "source": [
    "# plot Available Accomodations over Months in Seattle\n",
    "months = ['Jan', 'Feb', 'Mar', 'Apr', 'May', 'Jun', 'Jul', 'Aug', 'Sep', 'Oct', 'Nov', 'Dec']\n",
    "plt.bar(months, avail)\n",
    "plt.title('Available Accomodations over Months in Seattle')\n",
    "plt.xlabel('Months')\n",
    "plt.xticks(rotation=30)\n",
    "plt.ylabel('Availability in %')\n",
    "# Displaying the bar plot\n",
    "plt.show()"
   ]
  },
  {
   "cell_type": "markdown",
   "id": "7934be3d",
   "metadata": {},
   "source": [
    "#### Explain the visualisation\n",
    "\n",
    "January are the busiest month in the year, In March and December are a lot of accomodations available. It looks like that in summer are a little bit more visitors in Seattle than in winter."
   ]
  },
  {
   "cell_type": "code",
   "execution_count": 15,
   "id": "d0dfc00d",
   "metadata": {},
   "outputs": [
    {
     "data": {
      "image/png": "[encoded data removed]",
      "text/plain": [
       "<Figure size 432x288 with 1 Axes>"
      ]
     },
     "metadata": {
      "needs_background": "light"
     },
     "output_type": "display_data"
    }
   ],
   "source": [
    "# plot Price of Accomodations over Months in Seattle\n",
    "months = ['Jan', 'Feb', 'Mar', 'Apr', 'May', 'Jun', 'Jul', 'Aug', 'Sep', 'Oct', 'Nov', 'Dec']\n",
    "plt.bar(months, price)\n",
    "plt.title('Price of Accomodations over Months in Seattle')\n",
    "plt.xlabel('Months')\n",
    "plt.xticks(rotation=30)\n",
    "plt.ylabel('Mean price in $')\n",
    "# Displaying the bar plot\n",
    "plt.show()"
   ]
  },
  {
   "cell_type": "code",
   "execution_count": 16,
   "id": "01cc8096",
   "metadata": {},
   "outputs": [
    {
     "data": {
      "text/plain": [
       "0.1260832494969748"
      ]
     },
     "execution_count": 16,
     "metadata": {},
     "output_type": "execute_result"
    }
   ],
   "source": [
    "avail_np = np.array(avail)\n",
    "price_np = np.array(price)\n",
    "\n",
    "np.corrcoef(avail_np, price_np)[0,1]"
   ]
  },
  {
   "cell_type": "markdown",
   "id": "dba1d357",
   "metadata": {},
   "source": [
    "#### Explain the visualisation\n",
    "\n",
    "figure above:\n",
    "The prices are getting higher during summer than in winter. The maximum is reached in july and the minimum in december.\n",
    "\n",
    "correslation factor above\n",
    "There is only a very small positive corellation between the price and the availability per months. In summer is the a lower availability an therefore the prices are higher than in winter."
   ]
  },
  {
   "cell_type": "markdown",
   "id": "9faeec2b",
   "metadata": {},
   "source": [
    "#### Question 3\n",
    "How many accommodations are there for larger groups?\n",
    "\n",
    "#### Analyze"
   ]
  },
  {
   "cell_type": "code",
   "execution_count": 17,
   "id": "72e1bfa1",
   "metadata": {},
   "outputs": [
    {
     "name": "stdout",
     "output_type": "stream",
     "text": [
      "1     2275\n",
      "2      989\n",
      "4      237\n",
      "0       92\n",
      "3       80\n",
      "6       71\n",
      "5       28\n",
      "8       24\n",
      "7       14\n",
      "10       2\n",
      "9        2\n",
      "11       1\n",
      "15       1\n",
      "13       1\n",
      "12       1\n",
      "Name: guests_included, dtype: int64\n"
     ]
    }
   ],
   "source": [
    "# available accomodations for different group sizes\n",
    "people_size = []\n",
    "nr_acc = []\n",
    "uniq_val = df_lis['guests_included'].unique()\n",
    "for idx in uniq_val:\n",
    "    nr_acc.append(df_lis['guests_included'].value_counts()[idx])\n",
    "    people_size.append(idx)\n",
    "#df_lis['guests_included'].value_counts()#.to_list()\n",
    "print(df_lis['guests_included'].value_counts())"
   ]
  },
  {
   "cell_type": "markdown",
   "id": "5afa6fc5",
   "metadata": {},
   "source": [
    "#### Visualize"
   ]
  },
  {
   "cell_type": "code",
   "execution_count": 18,
   "id": "849f1fb9",
   "metadata": {},
   "outputs": [
    {
     "data": {
      "image/png": "[encoded data removed]",
      "text/plain": [
       "<Figure size 432x288 with 1 Axes>"
      ]
     },
     "metadata": {
      "needs_background": "light"
     },
     "output_type": "display_data"
    }
   ],
   "source": [
    "# plot Availability of Accomomdations for different group sizes\n",
    "plt.bar(people_size, nr_acc)\n",
    "plt.title('Availability of Accomomdations for different group sizes')\n",
    "plt.xlabel('Included amount of people')\n",
    "plt.xticks(rotation=30)\n",
    "plt.ylabel('Amount of Accomodations')\n",
    "# Displaying the bar plot\n",
    "plt.show()"
   ]
  },
  {
   "cell_type": "markdown",
   "id": "5f3dd170",
   "metadata": {},
   "source": [
    "#### Explain the visualization\n",
    "It is easy to see, that there are a lot of accommodations for 1 and 2 persons and a few for 3-8 persons. For this study we neglet the possibility to add extra persons in a room. We only focus on the already included amount of people. To have a dataset with at least 10 different accomodations, we use for the next analysis only the accomodations where 1-8 persons are already included."
   ]
  },
  {
   "cell_type": "markdown",
   "id": "c1dcb839",
   "metadata": {},
   "source": [
    "#### Question 4 and 5\n",
    "- Is it always cheapest to look for your actual group size in Seattle? Or should I also look for larger accommodations as the total price could be lower?\n",
    "- What is the price for the most expensive night for a person in Seattle?\n",
    "\n",
    "#### Analyze"
   ]
  },
  {
   "cell_type": "code",
   "execution_count": 19,
   "id": "01f87db2",
   "metadata": {},
   "outputs": [],
   "source": [
    "# cheapest prices and most expensive prices for different group sizes\n",
    "df_lis['price'] = price2float(df_lis['price'])"
   ]
  },
  {
   "cell_type": "code",
   "execution_count": 20,
   "id": "2ab0d567",
   "metadata": {},
   "outputs": [],
   "source": [
    "# calculate max, min and average prices for different group sizes\n",
    "max_price = []\n",
    "min_price = []\n",
    "group_size = []\n",
    "avg_price=[]\n",
    "for i in range(1,9):\n",
    "    max_price.append(df_lis.loc[df_lis['guests_included']==i, 'price'].astype(float).max())\n",
    "    min_price.append(df_lis.loc[df_lis['guests_included']==i, 'price'].astype(float).min())\n",
    "    avg_price.append(df_lis.loc[df_lis['guests_included']==i, 'price'].astype(float).mean())\n",
    "    group_size.append(i)"
   ]
  },
  {
   "cell_type": "markdown",
   "id": "5e722edd",
   "metadata": {},
   "source": [
    "#### Visualize"
   ]
  },
  {
   "cell_type": "code",
   "execution_count": 21,
   "id": "f32b3c52",
   "metadata": {},
   "outputs": [
    {
     "data": {
      "text/plain": [
       "Text(0.5, 1.0, 'total prices over group size')"
      ]
     },
     "execution_count": 21,
     "metadata": {},
     "output_type": "execute_result"
    },
    {
     "data": {
      "image/png": "[encoded data removed]",
      "text/plain": [
       "<Figure size 432x288 with 1 Axes>"
      ]
     },
     "metadata": {
      "needs_background": "light"
     },
     "output_type": "display_data"
    }
   ],
   "source": [
    "#plot\n",
    "plt.plot(group_size, min_price,color='blue')\n",
    "plt.plot(group_size, max_price, color='red')\n",
    "plt.plot(group_size, avg_price, color='black')\n",
    "plt.fill_between(group_size, min_price, max_price, color='red', alpha=0.5)\n",
    "plt.xlabel('group size')\n",
    "plt.ylabel('price in $')\n",
    "plt.legend(['min', 'max', 'avg'])\n",
    "plt.title('total prices over group size')\n"
   ]
  },
  {
   "cell_type": "markdown",
   "id": "2e0c0234",
   "metadata": {},
   "source": [
    "#### Explain the visualization\n",
    "The min price is roughly increasing with the amount of gropu size. That means it make sense to only search for the group size which you really need, if you want to spend the night very cheap. But there is an exception at 5 persons. So if you are only 5 Persons it could make sense to search also for accomodations for 6 oder 7 persons, because they could be cheaper. The same effect can be seen in the average price. If you are actually 6 Persons you should also search for 7 Persons, because this accomodations are in average cheaper than the 6 Persons accomodations. In total it can be seen that there are only a few very expensive accomodations, because the average cuve is very close to the min curve and far away from the max curve. Interessting fun fact: it is possible to spend a night for a single person for 1000$ in Seattle."
   ]
  },
  {
   "cell_type": "code",
   "execution_count": null,
   "id": "b9fabfb7",
   "metadata": {},
   "outputs": [],
   "source": [
    "\n"
   ]
  }
 ],
 "metadata": {
  "kernelspec": {
   "display_name": "Python 3 (ipykernel)",
   "language": "python",
   "name": "python3"
  },
  "language_info": {
   "codemirror_mode": {
    "name": "ipython",
    "version": 3
   },
   "file_extension": ".py",
   "mimetype": "text/x-python",
   "name": "python",
   "nbconvert_exporter": "python",
   "pygments_lexer": "ipython3",
   "version": "3.9.12"
  }
 },
 "nbformat": 4,
 "nbformat_minor": 5
}
